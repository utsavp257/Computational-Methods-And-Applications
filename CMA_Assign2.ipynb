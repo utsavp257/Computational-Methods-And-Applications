{
  "nbformat": 4,
  "nbformat_minor": 0,
  "metadata": {
    "colab": {
      "provenance": []
    },
    "kernelspec": {
      "name": "python3",
      "display_name": "Python 3"
    },
    "language_info": {
      "name": "python"
    }
  },
  "cells": [
    {
      "cell_type": "markdown",
      "source": [
        "Question 1"
      ],
      "metadata": {
        "id": "xClC10ZIPi2v"
      }
    },
    {
      "cell_type": "code",
      "source": [
        "import matplotlib.pyplot as plt\n",
        "import numpy as np\n"
      ],
      "metadata": {
        "id": "qZAdMrk5KOGi"
      },
      "execution_count": null,
      "outputs": []
    },
    {
      "cell_type": "code",
      "execution_count": null,
      "metadata": {
        "id": "x6Nm5-Eg6UST"
      },
      "outputs": [],
      "source": [
        "class UndirectedGraph:\n",
        "  def __init__(self, numVertices=-1):\n",
        "    self.maxSize = numVertices\n",
        "    self.numEdges = 0\n",
        "    if numVertices==-1:\n",
        "      self.adjList = {}\n",
        "      self.maxSize = -1\n",
        "      self.numVertices = 0\n",
        "    else:\n",
        "      self.adjList = {}\n",
        "      self.numVertices = numVertices\n",
        "      for i in range(1, numVertices+1):\n",
        "        self.adjList[i] = []\n",
        "\n",
        "  def addNode(self, nodeIndex): #forgot to add negative check\n",
        "    if self.maxSize != -1:\n",
        "      if nodeIndex<=self.maxSize:\n",
        "        self.adjList[nodeIndex] = []\n",
        "      else:\n",
        "        raise Exception('Node index cannot exceed number of nodes')\n",
        "    else:  #free graph\n",
        "      self.adjList[nodeIndex] = []\n",
        "      self.numVertices += 1\n",
        "\n",
        "  def addEdge(self, a, b):\n",
        "    if a not in self.adjList.keys():\n",
        "      self.addNode(a)\n",
        "    if b not in self.adjList.keys():\n",
        "      self.addNode(b)\n",
        "    if b not in self.adjList[a]:\n",
        "      self.adjList[a].append(b)\n",
        "      self.adjList[b].append(a)\n",
        "      self.numEdges += 1\n",
        "\n",
        "  def __add__(self, other):\n",
        "    if type(other) is int:\n",
        "      self.addNode(other)\n",
        "    if type(other) is tuple:\n",
        "      self.addEdge(other[0], other[1])\n",
        "    return self\n",
        "\n",
        "  def __str__(self):\n",
        "    outstr= f\"Graph with {self.numVertices} nodes and {self.numEdges} edges. Neighbours of the nodes are belows:\\n\"\n",
        "    for i in self.adjList.keys():\n",
        "      outstr += f\"Node {i}: {self.adjList[i]}\\n\"\n",
        "    return outstr\n",
        "\n",
        "  def plotDegDist(self):\n",
        "    node_degrees = []\n",
        "    for i in range(1, self.numVertices+1):\n",
        "      node_degrees.append(len(self.adjList[i]))\n",
        "\n",
        "    node_count = {}\n",
        "    # for i in range(0, max(node_degrees)+1):\n",
        "    for i in range(0, self.numVertices+1):\n",
        "      node_count[i] = 0\n",
        "    for deg in node_degrees:\n",
        "      node_count[deg] += 1\n",
        "    for i in node_count.keys():\n",
        "      node_count[i] /= self.numVertices\n",
        "    # xplots = np.arange(0, max(node_count.keys())+1, 1)\n",
        "    xplots = np.arange(0, self.numVertices, 1)\n",
        "    yplots = [node_count[i] for i in xplots]\n",
        "    # print(xplots)\n",
        "    # print(yplots)\n",
        "    plt.plot(xplots, yplots, 'o', marker='.', markersize = 5)\n",
        "    plt.axvline(x = sum(node_degrees)/len(node_degrees), color = 'red', label = 'axvline - full height')\n",
        "    plt.show()\n",
        "\n",
        "\n",
        "  def isConnected(self):\n",
        "    queue = []\n",
        "    visited = []\n",
        "    curr_vertex = list(self.adjList.keys())[0]\n",
        "    queue.append(curr_vertex)\n",
        "    while(len(queue)!=0):\n",
        "      curr_vertex = queue.pop(0)\n",
        "      for i in self.adjList[curr_vertex]:\n",
        "        if i not in visited:\n",
        "          visited.append(i)\n",
        "          queue.append(i)\n",
        "    if(len(visited)==self.numVertices):\n",
        "      return True\n",
        "    else:\n",
        "      return False\n",
        "\n",
        "  def oneTwoComponentSizes(self):\n",
        "    queue = []\n",
        "    visited = []\n",
        "    conn_component_size = []\n",
        "    temp = 0\n",
        "    for vert in self.adjList.keys():\n",
        "      if vert not in visited:\n",
        "        flag = 0\n",
        "        curr_vertex = vert\n",
        "        visited.append(vert)\n",
        "        queue.append(curr_vertex)\n",
        "        while(len(queue)!=0):\n",
        "          curr_vertex = queue.pop(0)\n",
        "          #visited.append(curr_vertex)\n",
        "          #print(f\" adj List is {self.adjList[curr_vertex]}\")\n",
        "          if (len(self.adjList[curr_vertex])==0):\n",
        "            flag = 1\n",
        "          for i in self.adjList[curr_vertex]:\n",
        "            if i not in visited:\n",
        "              visited.append(i)\n",
        "              queue.append(i)\n",
        "        temp = len(visited) - temp\n",
        "        if flag ==0:\n",
        "          conn_component_size.append(temp)\n",
        "        else:\n",
        "          conn_component_size.append(1)\n",
        "    #print(conn_component_size)\n",
        "    conn_component_size.sort()\n",
        "    return [conn_component_size[-1], conn_component_size[-2]]"
      ]
    },
    {
      "cell_type": "code",
      "source": [
        "g = UndirectedGraph()\n",
        "g.addNode(1)\n",
        "g.addNode(100)"
      ],
      "metadata": {
        "id": "VhYL3HiGCaeD"
      },
      "execution_count": null,
      "outputs": []
    },
    {
      "cell_type": "code",
      "source": [
        "# g = UndirectedGraph(10)\n",
        "# g.addNode(11)"
      ],
      "metadata": {
        "id": "g2KGWC2cCjRe"
      },
      "execution_count": null,
      "outputs": []
    },
    {
      "cell_type": "code",
      "source": [
        "g = UndirectedGraph(10)\n",
        "g.addEdge(1,2)\n",
        "g.addNode(4)\n",
        "g.addEdge(2,4)\n",
        "print(g)"
      ],
      "metadata": {
        "colab": {
          "base_uri": "https://localhost:8080/"
        },
        "id": "VTLZKpOoEsbB",
        "outputId": "c368abb9-4d7f-4061-d9ac-55e762216256"
      },
      "execution_count": null,
      "outputs": [
        {
          "output_type": "stream",
          "name": "stdout",
          "text": [
            "Graph with 10 nodes and 2 edges. Neighbours of the nodes are belows:\n",
            "Node 1: [2]\n",
            "Node 2: [1, 4]\n",
            "Node 3: []\n",
            "Node 4: [2]\n",
            "Node 5: []\n",
            "Node 6: []\n",
            "Node 7: []\n",
            "Node 8: []\n",
            "Node 9: []\n",
            "Node 10: []\n",
            "\n"
          ]
        }
      ]
    },
    {
      "cell_type": "code",
      "source": [
        "g = UndirectedGraph()\n",
        "g = g + 10\n",
        "g = g + (11, 12)\n",
        "print(g)"
      ],
      "metadata": {
        "colab": {
          "base_uri": "https://localhost:8080/"
        },
        "id": "Z3nh5eH8CuD2",
        "outputId": "80350157-df80-4640-ac90-93960354b47d"
      },
      "execution_count": null,
      "outputs": [
        {
          "output_type": "stream",
          "name": "stdout",
          "text": [
            "Graph with 3 nodes and 1 edges. Neighbours of the nodes are belows:\n",
            "Node 10: []\n",
            "Node 11: [12]\n",
            "Node 12: [11]\n",
            "\n"
          ]
        }
      ]
    },
    {
      "cell_type": "code",
      "source": [
        "g = UndirectedGraph(10)\n",
        "g = g + (1, 2)\n",
        "g = g + (3, 4)\n",
        "print(g)"
      ],
      "metadata": {
        "colab": {
          "base_uri": "https://localhost:8080/"
        },
        "id": "TecFj0DFHjiJ",
        "outputId": "5d67c008-71c7-4733-c7bd-6c107839d164"
      },
      "execution_count": null,
      "outputs": [
        {
          "output_type": "stream",
          "name": "stdout",
          "text": [
            "Graph with 10 nodes and 2 edges. Neighbours of the nodes are belows:\n",
            "Node 1: [2]\n",
            "Node 2: [1]\n",
            "Node 3: [4]\n",
            "Node 4: [3]\n",
            "Node 5: []\n",
            "Node 6: []\n",
            "Node 7: []\n",
            "Node 8: []\n",
            "Node 9: []\n",
            "Node 10: []\n",
            "\n"
          ]
        }
      ]
    },
    {
      "cell_type": "code",
      "source": [
        "g = UndirectedGraph(5)\n",
        "g = g + (1, 2)\n",
        "g = g + (3, 4)\n",
        "g = g + (1, 4)\n",
        "print(g)\n",
        "g.plotDegDist()"
      ],
      "metadata": {
        "colab": {
          "base_uri": "https://localhost:8080/",
          "height": 606
        },
        "id": "gpvfqVONIy2V",
        "outputId": "2ddb704a-a1b2-4af8-ba3c-908a52fa3038"
      },
      "execution_count": null,
      "outputs": [
        {
          "output_type": "stream",
          "name": "stdout",
          "text": [
            "Graph with 5 nodes and 3 edges. Neighbours of the nodes are belows:\n",
            "Node 1: [2, 4]\n",
            "Node 2: [1]\n",
            "Node 3: [4]\n",
            "Node 4: [3, 1]\n",
            "Node 5: []\n",
            "\n"
          ]
        },
        {
          "output_type": "stream",
          "name": "stderr",
          "text": [
            "<ipython-input-2-233276bb449b>:72: UserWarning: marker is redundantly defined by the 'marker' keyword argument and the fmt string \"o\" (-> marker='o'). The keyword argument will take precedence.\n",
            "  plt.plot(xplots, yplots, 'o', marker='.', markersize = 5)\n"
          ]
        },
        {
          "output_type": "display_data",
          "data": {
            "text/plain": [
              "<Figure size 640x480 with 1 Axes>"
            ],
            "image/png": "[encoded data removed]"
          },
          "metadata": {}
        }
      ]
    },
    {
      "cell_type": "markdown",
      "source": [
        "Question 2"
      ],
      "metadata": {
        "id": "NHfws5SMPmPu"
      }
    },
    {
      "cell_type": "code",
      "source": [
        "import random"
      ],
      "metadata": {
        "id": "3-Q95k6cQuVS"
      },
      "execution_count": null,
      "outputs": []
    },
    {
      "cell_type": "code",
      "source": [
        "class ERRandomGraph(UndirectedGraph):\n",
        "  def sample(self, pr):\n",
        "    for i in range(self.numVertices):\n",
        "      for j in range(0, i):\n",
        "        if random.choices([1, 0], weights=[pr, 1-pr], k=1)[0] == 1:\n",
        "          self.addEdge(i, j)\n",
        "\n"
      ],
      "metadata": {
        "id": "KksuKZ1nPnW3"
      },
      "execution_count": null,
      "outputs": []
    },
    {
      "cell_type": "code",
      "source": [
        "g = ERRandomGraph(100)\n",
        "g.sample(0.7)\n",
        "g.plotDegDist()"
      ],
      "metadata": {
        "colab": {
          "base_uri": "https://localhost:8080/",
          "height": 485
        },
        "id": "_HHVlB5iRDXK",
        "outputId": "d120d8ad-8656-4b77-9c9a-9ef8805b4ca6"
      },
      "execution_count": null,
      "outputs": [
        {
          "output_type": "stream",
          "name": "stderr",
          "text": [
            "<ipython-input-2-233276bb449b>:72: UserWarning: marker is redundantly defined by the 'marker' keyword argument and the fmt string \"o\" (-> marker='o'). The keyword argument will take precedence.\n",
            "  plt.plot(xplots, yplots, 'o', marker='.', markersize = 5)\n"
          ]
        },
        {
          "output_type": "display_data",
          "data": {
            "text/plain": [
              "<Figure size 640x480 with 1 Axes>"
            ],
            "image/png": "[encoded data removed]"
          },
          "metadata": {}
        }
      ]
    },
    {
      "cell_type": "code",
      "source": [
        "g = ERRandomGraph(1000)\n",
        "g.sample(0.4)\n",
        "g.plotDegDist()"
      ],
      "metadata": {
        "colab": {
          "base_uri": "https://localhost:8080/",
          "height": 485
        },
        "id": "Jw8VVh_ARdy-",
        "outputId": "e7c2118a-40cf-40d3-c25a-dcd6ea435d72"
      },
      "execution_count": null,
      "outputs": [
        {
          "output_type": "stream",
          "name": "stderr",
          "text": [
            "<ipython-input-2-233276bb449b>:72: UserWarning: marker is redundantly defined by the 'marker' keyword argument and the fmt string \"o\" (-> marker='o'). The keyword argument will take precedence.\n",
            "  plt.plot(xplots, yplots, 'o', marker='.', markersize = 5)\n"
          ]
        },
        {
          "output_type": "display_data",
          "data": {
            "text/plain": [
              "<Figure size 640x480 with 1 Axes>"
            ],
            "image/png": "[encoded data removed]"
          },
          "metadata": {}
        }
      ]
    },
    {
      "cell_type": "markdown",
      "source": [
        "Question 3"
      ],
      "metadata": {
        "id": "Vt8DZanUSegX"
      }
    },
    {
      "cell_type": "code",
      "source": [
        "g = UndirectedGraph(5)\n",
        "g = g + (1, 2)\n",
        "g = g + (2, 3)\n",
        "g = g + (3, 4)\n",
        "g = g + (3, 5)\n",
        "print(g.isConnected())"
      ],
      "metadata": {
        "colab": {
          "base_uri": "https://localhost:8080/"
        },
        "id": "tEWC78XmS0Hi",
        "outputId": "a305f84e-4794-4a9d-d71d-6bec03e482c0"
      },
      "execution_count": null,
      "outputs": [
        {
          "output_type": "stream",
          "name": "stdout",
          "text": [
            "True\n"
          ]
        }
      ]
    },
    {
      "cell_type": "code",
      "source": [
        "g = UndirectedGraph(5)\n",
        "g = g + (1, 2)\n",
        "g = g + (2, 3)\n",
        "g = g + (3, 5)\n",
        "print(g.isConnected())\n",
        "print(g)"
      ],
      "metadata": {
        "colab": {
          "base_uri": "https://localhost:8080/"
        },
        "id": "z5d9aI7CWI8p",
        "outputId": "ebb8ba02-455a-4ee5-df67-f4809bc41195"
      },
      "execution_count": null,
      "outputs": [
        {
          "output_type": "stream",
          "name": "stdout",
          "text": [
            "False\n",
            "Graph with 5 nodes and 3 edges. Neighbours of the nodes are belows:\n",
            "Node 1: [2]\n",
            "Node 2: [1, 3]\n",
            "Node 3: [2, 5]\n",
            "Node 4: []\n",
            "Node 5: [3]\n",
            "\n"
          ]
        }
      ]
    },
    {
      "cell_type": "code",
      "source": [
        "p_values = np.arange(0, 0.1, 0.005)"
      ],
      "metadata": {
        "id": "eyoCsyhSWKao"
      },
      "execution_count": null,
      "outputs": []
    },
    {
      "cell_type": "code",
      "source": [
        "conn_fraction = []"
      ],
      "metadata": {
        "id": "UdKmiOwNXL4d"
      },
      "execution_count": null,
      "outputs": []
    },
    {
      "cell_type": "code",
      "source": [
        "for p in p_values:\n",
        "  conn_count = 0\n",
        "  for i in range(1000):\n",
        "    g = ERRandomGraph(100)\n",
        "    g.sample(p)\n",
        "    if g.isConnected():\n",
        "      conn_count += 1\n",
        "  conn_fraction.append(conn_count/1000)\n"
      ],
      "metadata": {
        "id": "v7oArYb-W5Qk"
      },
      "execution_count": null,
      "outputs": []
    },
    {
      "cell_type": "code",
      "source": [
        "print(conn_fraction)"
      ],
      "metadata": {
        "colab": {
          "base_uri": "https://localhost:8080/"
        },
        "id": "k6E7V6xFYhvx",
        "outputId": "1518c502-11a9-4f54-dc26-c712c31f7846"
      },
      "execution_count": null,
      "outputs": [
        {
          "output_type": "stream",
          "name": "stdout",
          "text": [
            "[0.0, 0.0, 0.0, 0.0, 0.0, 0.0, 0.011, 0.059, 0.18, 0.331, 0.522, 0.695, 0.815, 0.865, 0.922, 0.957, 0.969, 0.989, 0.99, 0.994]\n"
          ]
        }
      ]
    },
    {
      "cell_type": "code",
      "source": [
        "plt.plot(p_values, conn_fraction)\n",
        "plt.axvline(0.04605170185, color = 'red', label = 'axvline - full height')\n",
        "plt.show()"
      ],
      "metadata": {
        "colab": {
          "base_uri": "https://localhost:8080/",
          "height": 430
        },
        "id": "0y8AMILJXaCM",
        "outputId": "b9672205-6dda-46ff-ca92-a6ef10974399"
      },
      "execution_count": null,
      "outputs": [
        {
          "output_type": "display_data",
          "data": {
            "text/plain": [
              "<Figure size 640x480 with 1 Axes>"
            ],
            "image/png": "[encoded data removed]"
          },
          "metadata": {}
        }
      ]
    },
    {
      "cell_type": "markdown",
      "source": [
        "Question 4"
      ],
      "metadata": {
        "id": "w2qKffr1YJiv"
      }
    },
    {
      "cell_type": "code",
      "source": [
        "g = UndirectedGraph(6)\n",
        "g = g + (1, 2)\n",
        "g = g + (3, 4)\n",
        "g = g + (6, 4)\n",
        "print(g)\n",
        "print(g.oneTwoComponentSizes())"
      ],
      "metadata": {
        "colab": {
          "base_uri": "https://localhost:8080/"
        },
        "id": "hEXrQUZKYLNY",
        "outputId": "fc983ec0-9fbc-47e6-ea25-cae5a7694274"
      },
      "execution_count": null,
      "outputs": [
        {
          "output_type": "stream",
          "name": "stdout",
          "text": [
            "Graph with 6 nodes and 3 edges. Neighbours of the nodes are belows:\n",
            "Node 1: [2]\n",
            "Node 2: [1]\n",
            "Node 3: [4]\n",
            "Node 4: [3, 6]\n",
            "Node 5: []\n",
            "Node 6: [4]\n",
            "\n",
            "[3, 2]\n"
          ]
        }
      ]
    },
    {
      "cell_type": "code",
      "source": [
        "g = ERRandomGraph(100)\n",
        "g.sample(0.01)\n",
        "print(g.oneTwoComponentSizes())"
      ],
      "metadata": {
        "colab": {
          "base_uri": "https://localhost:8080/"
        },
        "id": "VwBWh0ozeW6p",
        "outputId": "4ab11c93-5bba-4e7b-e007-6397ac0d755a"
      },
      "execution_count": null,
      "outputs": [
        {
          "output_type": "stream",
          "name": "stdout",
          "text": [
            "[49, 41]\n"
          ]
        }
      ]
    },
    {
      "cell_type": "code",
      "source": [
        "def four_b():\n",
        "  steps = np.arange(0, 0.006, 0.00006)\n",
        "  y_list = []\n",
        "  z_list = []\n",
        "  thres = 0\n",
        "  for step in steps:\n",
        "    y, z = 0, 0\n",
        "    for i in range(50):\n",
        "      g = ERRandomGraph(1000)\n",
        "      g.sample(step)\n",
        "      temp = g.oneTwoComponentSizes()\n",
        "      if len(temp)==1:\n",
        "        if thres==0:\n",
        "          print('11')\n",
        "          thres = step\n",
        "        else:\n",
        "          print('12')\n",
        "          y += temp[0]\n",
        "          z += 0\n",
        "      else:\n",
        "        y += temp[0]\n",
        "        z += temp[1]\n",
        "    y /= 50\n",
        "    z /= 50\n",
        "    y_list.append(y/1000)\n",
        "    z_list.append(z/1000)\n",
        "\n",
        "  plt.plot(steps, y_list, color='g', label='largest conn comp')\n",
        "  plt.plot(steps, z_list, color='b', label='2nd largest cc')\n",
        "  plt.axvline(0.001, color = 'red', label = 'axvline - full height')\n",
        "  plt.axvline(thres, color = 'yellow', label = 'axvline - full height')\n",
        "  plt.xlabel(\"p\")\n",
        "  plt.ylabel(\"fraction of nodes\")\n",
        "  plt.title(\"Fraction of nodes in the largest and second-largest connected components (CC) of G(1000, p) as function of p\")\n",
        "\n",
        "  plt.legend()\n",
        "  plt.show()\n",
        "\n"
      ],
      "metadata": {
        "id": "9iuuTKewk7Vh"
      },
      "execution_count": null,
      "outputs": []
    },
    {
      "cell_type": "code",
      "source": [
        "four_b()"
      ],
      "metadata": {
        "colab": {
          "base_uri": "https://localhost:8080/",
          "height": 321
        },
        "id": "EEFSJl8FXMze",
        "outputId": "4f404bc7-2dc1-4131-f393-39cdc65f014c"
      },
      "execution_count": null,
      "outputs": [
        {
          "output_type": "error",
          "ename": "KeyboardInterrupt",
          "evalue": "",
          "traceback": [
            "\u001b[0;31m---------------------------------------------------------------------------\u001b[0m",
            "\u001b[0;31mKeyboardInterrupt\u001b[0m                         Traceback (most recent call last)",
            "\u001b[0;32m<ipython-input-103-a5398995b03c>\u001b[0m in \u001b[0;36m<cell line: 1>\u001b[0;34m()\u001b[0m\n\u001b[0;32m----> 1\u001b[0;31m \u001b[0mfour_b\u001b[0m\u001b[0;34m(\u001b[0m\u001b[0;34m)\u001b[0m\u001b[0;34m\u001b[0m\u001b[0;34m\u001b[0m\u001b[0m\n\u001b[0m",
            "\u001b[0;32m<ipython-input-37-d8832f7217b3>\u001b[0m in \u001b[0;36mfour_b\u001b[0;34m()\u001b[0m\n\u001b[1;32m      8\u001b[0m     \u001b[0;32mfor\u001b[0m \u001b[0mi\u001b[0m \u001b[0;32min\u001b[0m \u001b[0mrange\u001b[0m\u001b[0;34m(\u001b[0m\u001b[0;36m50\u001b[0m\u001b[0;34m)\u001b[0m\u001b[0;34m:\u001b[0m\u001b[0;34m\u001b[0m\u001b[0;34m\u001b[0m\u001b[0m\n\u001b[1;32m      9\u001b[0m       \u001b[0mg\u001b[0m \u001b[0;34m=\u001b[0m \u001b[0mERRandomGraph\u001b[0m\u001b[0;34m(\u001b[0m\u001b[0;36m1000\u001b[0m\u001b[0;34m)\u001b[0m\u001b[0;34m\u001b[0m\u001b[0;34m\u001b[0m\u001b[0m\n\u001b[0;32m---> 10\u001b[0;31m       \u001b[0mg\u001b[0m\u001b[0;34m.\u001b[0m\u001b[0msample\u001b[0m\u001b[0;34m(\u001b[0m\u001b[0mstep\u001b[0m\u001b[0;34m)\u001b[0m\u001b[0;34m\u001b[0m\u001b[0;34m\u001b[0m\u001b[0m\n\u001b[0m\u001b[1;32m     11\u001b[0m       \u001b[0mtemp\u001b[0m \u001b[0;34m=\u001b[0m \u001b[0mg\u001b[0m\u001b[0;34m.\u001b[0m\u001b[0moneTwoComponentSizes\u001b[0m\u001b[0;34m(\u001b[0m\u001b[0;34m)\u001b[0m\u001b[0;34m\u001b[0m\u001b[0;34m\u001b[0m\u001b[0m\n\u001b[1;32m     12\u001b[0m       \u001b[0;32mif\u001b[0m \u001b[0mlen\u001b[0m\u001b[0;34m(\u001b[0m\u001b[0mtemp\u001b[0m\u001b[0;34m)\u001b[0m\u001b[0;34m==\u001b[0m\u001b[0;36m1\u001b[0m\u001b[0;34m:\u001b[0m\u001b[0;34m\u001b[0m\u001b[0;34m\u001b[0m\u001b[0m\n",
            "\u001b[0;32m<ipython-input-10-9c9d6c3a76bd>\u001b[0m in \u001b[0;36msample\u001b[0;34m(self, pr)\u001b[0m\n\u001b[1;32m      3\u001b[0m     \u001b[0;32mfor\u001b[0m \u001b[0mi\u001b[0m \u001b[0;32min\u001b[0m \u001b[0mrange\u001b[0m\u001b[0;34m(\u001b[0m\u001b[0mself\u001b[0m\u001b[0;34m.\u001b[0m\u001b[0mnumVertices\u001b[0m\u001b[0;34m)\u001b[0m\u001b[0;34m:\u001b[0m\u001b[0;34m\u001b[0m\u001b[0;34m\u001b[0m\u001b[0m\n\u001b[1;32m      4\u001b[0m       \u001b[0;32mfor\u001b[0m \u001b[0mj\u001b[0m \u001b[0;32min\u001b[0m \u001b[0mrange\u001b[0m\u001b[0;34m(\u001b[0m\u001b[0;36m0\u001b[0m\u001b[0;34m,\u001b[0m \u001b[0mi\u001b[0m\u001b[0;34m)\u001b[0m\u001b[0;34m:\u001b[0m\u001b[0;34m\u001b[0m\u001b[0;34m\u001b[0m\u001b[0m\n\u001b[0;32m----> 5\u001b[0;31m         \u001b[0;32mif\u001b[0m \u001b[0mrandom\u001b[0m\u001b[0;34m.\u001b[0m\u001b[0mchoices\u001b[0m\u001b[0;34m(\u001b[0m\u001b[0;34m[\u001b[0m\u001b[0;36m1\u001b[0m\u001b[0;34m,\u001b[0m \u001b[0;36m0\u001b[0m\u001b[0;34m]\u001b[0m\u001b[0;34m,\u001b[0m \u001b[0mweights\u001b[0m\u001b[0;34m=\u001b[0m\u001b[0;34m[\u001b[0m\u001b[0mpr\u001b[0m\u001b[0;34m,\u001b[0m \u001b[0;36m1\u001b[0m\u001b[0;34m-\u001b[0m\u001b[0mpr\u001b[0m\u001b[0;34m]\u001b[0m\u001b[0;34m,\u001b[0m \u001b[0mk\u001b[0m\u001b[0;34m=\u001b[0m\u001b[0;36m1\u001b[0m\u001b[0;34m)\u001b[0m\u001b[0;34m[\u001b[0m\u001b[0;36m0\u001b[0m\u001b[0;34m]\u001b[0m \u001b[0;34m==\u001b[0m \u001b[0;36m1\u001b[0m\u001b[0;34m:\u001b[0m\u001b[0;34m\u001b[0m\u001b[0;34m\u001b[0m\u001b[0m\n\u001b[0m\u001b[1;32m      6\u001b[0m           \u001b[0mself\u001b[0m\u001b[0;34m.\u001b[0m\u001b[0maddEdge\u001b[0m\u001b[0;34m(\u001b[0m\u001b[0mi\u001b[0m\u001b[0;34m,\u001b[0m \u001b[0mj\u001b[0m\u001b[0;34m)\u001b[0m\u001b[0;34m\u001b[0m\u001b[0;34m\u001b[0m\u001b[0m\n\u001b[1;32m      7\u001b[0m \u001b[0;34m\u001b[0m\u001b[0m\n",
            "\u001b[0;32m/usr/lib/python3.10/random.py\u001b[0m in \u001b[0;36mchoices\u001b[0;34m(self, population, weights, cum_weights, k)\u001b[0m\n\u001b[1;32m    504\u001b[0m         \u001b[0;32mreturn\u001b[0m \u001b[0mresult\u001b[0m\u001b[0;34m\u001b[0m\u001b[0;34m\u001b[0m\u001b[0m\n\u001b[1;32m    505\u001b[0m \u001b[0;34m\u001b[0m\u001b[0m\n\u001b[0;32m--> 506\u001b[0;31m     \u001b[0;32mdef\u001b[0m \u001b[0mchoices\u001b[0m\u001b[0;34m(\u001b[0m\u001b[0mself\u001b[0m\u001b[0;34m,\u001b[0m \u001b[0mpopulation\u001b[0m\u001b[0;34m,\u001b[0m \u001b[0mweights\u001b[0m\u001b[0;34m=\u001b[0m\u001b[0;32mNone\u001b[0m\u001b[0;34m,\u001b[0m \u001b[0;34m*\u001b[0m\u001b[0;34m,\u001b[0m \u001b[0mcum_weights\u001b[0m\u001b[0;34m=\u001b[0m\u001b[0;32mNone\u001b[0m\u001b[0;34m,\u001b[0m \u001b[0mk\u001b[0m\u001b[0;34m=\u001b[0m\u001b[0;36m1\u001b[0m\u001b[0;34m)\u001b[0m\u001b[0;34m:\u001b[0m\u001b[0;34m\u001b[0m\u001b[0;34m\u001b[0m\u001b[0m\n\u001b[0m\u001b[1;32m    507\u001b[0m         \"\"\"Return a k sized list of population elements chosen with replacement.\n\u001b[1;32m    508\u001b[0m \u001b[0;34m\u001b[0m\u001b[0m\n",
            "\u001b[0;31mKeyboardInterrupt\u001b[0m: "
          ]
        }
      ]
    },
    {
      "cell_type": "markdown",
      "source": [
        "Question 5"
      ],
      "metadata": {
        "id": "9OrAr9Q4DZQt"
      }
    },
    {
      "cell_type": "code",
      "source": [
        "import networkx as nx\n"
      ],
      "metadata": {
        "id": "B2VimEHodjx5"
      },
      "execution_count": null,
      "outputs": []
    },
    {
      "cell_type": "code",
      "source": [
        "\n",
        "\n",
        "class Lattice():\n",
        "  def __init__(self, vert):\n",
        "    self.vert = vert\n",
        "    self.g = nx.grid_graph(dim=(vert, vert))\n",
        "    self.long_path = []\n",
        "    for i in range(vert):\n",
        "      for j in range(vert):\n",
        "        if ((i-1, j), (i, j)) in list(self.g.edges):   #left\n",
        "          self.g.remove_edge((i-1,j),(i,j))\n",
        "        if ((i, j), (i-1, j)) in list(self.g.edges):   #lefti\n",
        "          self.g.remove_edge((i, j), (i-1, j))\n",
        "        if ((i+1, j), (i, j)) in list(self.g.edges):   #right\n",
        "          self.g.remove_edge((i+1, j), (i, j))\n",
        "        if ((i, j), (i+1, j)) in list(self.g.edges):   #righti\n",
        "          self.g.remove_edge((i, j), (i+1, j))\n",
        "        if ((i, j-1), (i, j)) in list(self.g.edges):   #up\n",
        "          self.g.remove_edge((i, j-1), (i, j))\n",
        "        if ((i, j), (i, j-1)) in list(self.g.edges):   #upi\n",
        "          self.g.remove_edge((i, j), (i, j-1))\n",
        "        if ((i, j+1), (i, j)) in list(self.g.edges):   #down\n",
        "          self.g.remove_edge((i, j+1), (i, j))\n",
        "        if ((i, j), (i, j+1)) in list(self.g.edges):   #downi\n",
        "          self.g.remove_edge((i, j), (i, j+1))\n",
        "\n",
        "    # print(list(self.g.nodes))\n",
        "    # print(list(self.g.edges))\n",
        "\n",
        "  def show(self):\n",
        "    x_points = [point[0] for point in list(self.g.nodes)]\n",
        "    y_points = [point[1] for point in list(self.g.nodes)]\n",
        "    points_1 = [edge[0] for edge in list(self.g.edges)]\n",
        "    points_2 = [edge[1] for edge in list(self.g.edges)]\n",
        "    # print(len(list(self.g.edges)))\n",
        "    for i in range(len(points_1)):\n",
        "      plt.plot((points_1[i][0], points_2[i][0]), (points_1[i][1], points_2[i][1]), markersize=2, color='r')\n",
        "    long_points_1 = [edge[0] for edge in self.long_path]\n",
        "    long_points_2 = [edge[1] for edge in self.long_path]\n",
        "    for i in range(len(long_points_1)):\n",
        "      plt.plot((long_points_1[i][0], long_points_2[i][0]), (long_points_1[i][1], long_points_2[i][1]), markersize=2, color='g')\n",
        "    plt.plot(x_points, y_points, 'o', markersize=2)\n",
        "    plt.show()\n",
        "\n",
        "  def isValid(self, i, j):\n",
        "    if i>-1 and i<self.vert and j>-1 and j<self.vert:\n",
        "      return True\n",
        "    else:\n",
        "      return False\n",
        "\n",
        "  def percolate(self, p):\n",
        "    diff = [(-1, 0), (+1, 0), (0, +1), (0, -1)]\n",
        "    for i in range(self.vert):\n",
        "      for j in range(self.vert):\n",
        "        for k in range(4):\n",
        "          if random.choices([1, 0], weights=[p, 1-p], k=1)[0] == 1:\n",
        "            if self.isValid(i+diff[k][0], j+diff[k][1]):\n",
        "              self.g.add_edge((i, j), (i+diff[k][0], j+diff[k][1]))\n",
        "              self.g.add_edge((i+diff[k][0], j+diff[k][1]), (i, j))\n",
        "\n",
        "\n",
        "  def existsTopDownPath(self):\n",
        "    for i in range(self.vert):\n",
        "      for j in range(self.vert):\n",
        "        if nx.has_path(self.g, (i,self.vert-1), (j, 0)):\n",
        "          # print(f\"hehe {(i,self.vert-1)} and {(j, 0)}\")\n",
        "          return True\n",
        "    return False\n",
        "\n",
        "  def showPaths(self):\n",
        "    # print(nx.bfs_edges(self.g, (0,0)))\n",
        "    #print(type(nx.shortest_path(self.g,(0,0))))\n",
        "    if not self.existsTopDownPath():\n",
        "      for i in range(self.vert):\n",
        "        all_paths = []\n",
        "        for path in list(nx.shortest_path(self.g,(i,self.vert-1)).values()):\n",
        "          all_paths.append(path)\n",
        "        if(len(all_paths)==0):\n",
        "          continue\n",
        "        long_short_path = all_paths[0]\n",
        "        for path in all_paths:\n",
        "          if len(path) > len(long_short_path):\n",
        "            long_short_path = path\n",
        "        for i in range(len(long_short_path)-1):\n",
        "          self.long_path.append((long_short_path[i], long_short_path[i+1]))\n",
        "    else:\n",
        "      for i in range(self.vert):\n",
        "        all_paths = []\n",
        "        bottom_nodes = [(i,0) for i in range(self.vert)]\n",
        "        for path in list(nx.shortest_path(self.g,(i,self.vert-1)).values()):\n",
        "          for node in bottom_nodes:\n",
        "            if node in path:\n",
        "              all_paths.append(path)\n",
        "              break\n",
        "        if(len(all_paths)==0):\n",
        "          continue\n",
        "        long_short_path = all_paths[0]\n",
        "        for path in all_paths:\n",
        "          if len(path) > len(long_short_path):\n",
        "            long_short_path = path\n",
        "        for i in range(len(long_short_path)-1):\n",
        "          self.long_path.append((long_short_path[i], long_short_path[i+1]))\n",
        "\n",
        "    self.show()\n",
        "    # for i in range(self.vert):\n",
        "    #   for j in range(self.vert):\n",
        "    #     reachable_nodes = [(i,j)]\n",
        "    #     for edge in nx.bfs_edges(self, (i, j)):\n",
        "    #       reachable_nodes.append(edge[1])\n"
      ],
      "metadata": {
        "id": "BqK3z4AjdsqC"
      },
      "execution_count": null,
      "outputs": []
    },
    {
      "cell_type": "code",
      "source": [
        "l = Lattice(10)"
      ],
      "metadata": {
        "colab": {
          "base_uri": "https://localhost:8080/"
        },
        "id": "e_2Nfl4uiNkb",
        "outputId": "55d024cd-2f5c-49f9-9a43-b85115cf84d2"
      },
      "execution_count": null,
      "outputs": [
        {
          "output_type": "stream",
          "name": "stdout",
          "text": [
            "[(0, 0), (0, 1), (0, 2), (0, 3), (0, 4), (0, 5), (0, 6), (0, 7), (0, 8), (0, 9), (1, 0), (1, 1), (1, 2), (1, 3), (1, 4), (1, 5), (1, 6), (1, 7), (1, 8), (1, 9), (2, 0), (2, 1), (2, 2), (2, 3), (2, 4), (2, 5), (2, 6), (2, 7), (2, 8), (2, 9), (3, 0), (3, 1), (3, 2), (3, 3), (3, 4), (3, 5), (3, 6), (3, 7), (3, 8), (3, 9), (4, 0), (4, 1), (4, 2), (4, 3), (4, 4), (4, 5), (4, 6), (4, 7), (4, 8), (4, 9), (5, 0), (5, 1), (5, 2), (5, 3), (5, 4), (5, 5), (5, 6), (5, 7), (5, 8), (5, 9), (6, 0), (6, 1), (6, 2), (6, 3), (6, 4), (6, 5), (6, 6), (6, 7), (6, 8), (6, 9), (7, 0), (7, 1), (7, 2), (7, 3), (7, 4), (7, 5), (7, 6), (7, 7), (7, 8), (7, 9), (8, 0), (8, 1), (8, 2), (8, 3), (8, 4), (8, 5), (8, 6), (8, 7), (8, 8), (8, 9), (9, 0), (9, 1), (9, 2), (9, 3), (9, 4), (9, 5), (9, 6), (9, 7), (9, 8), (9, 9)]\n",
            "[]\n"
          ]
        }
      ]
    },
    {
      "cell_type": "code",
      "source": [],
      "metadata": {
        "id": "Yxzsi8nrsKwW"
      },
      "execution_count": null,
      "outputs": []
    },
    {
      "cell_type": "code",
      "source": [
        "l = Lattice(25)\n",
        "l.percolate(0.4)\n",
        "l.show()\n",
        "l.existsTopDownPath()"
      ],
      "metadata": {
        "colab": {
          "base_uri": "https://localhost:8080/",
          "height": 450
        },
        "id": "qjIzrpT0i0YK",
        "outputId": "de0f7c1f-c5f4-43ec-9f0f-4ce16f834cbb"
      },
      "execution_count": null,
      "outputs": [
        {
          "output_type": "display_data",
          "data": {
            "text/plain": [
              "<Figure size 640x480 with 1 Axes>"
            ],
            "image/png": "[encoded data removed]"
          },
          "metadata": {}
        },
        {
          "output_type": "execute_result",
          "data": {
            "text/plain": [
              "True"
            ]
          },
          "metadata": {},
          "execution_count": 211
        }
      ]
    },
    {
      "cell_type": "code",
      "source": [
        "l.showPaths()"
      ],
      "metadata": {
        "colab": {
          "base_uri": "https://localhost:8080/",
          "height": 430
        },
        "id": "vToPJyZB3dVb",
        "outputId": "70a315ed-63a3-44d8-d44b-8285baec406c"
      },
      "execution_count": null,
      "outputs": [
        {
          "output_type": "display_data",
          "data": {
            "text/plain": [
              "<Figure size 640x480 with 1 Axes>"
            ],
            "image/png": "[encoded data removed]"
          },
          "metadata": {}
        }
      ]
    },
    {
      "cell_type": "markdown",
      "source": [
        "Question 6"
      ],
      "metadata": {
        "id": "61jtHCbCDi_2"
      }
    },
    {
      "cell_type": "code",
      "source": [
        "x_list = np.arange(0, 1, 0.1)"
      ],
      "metadata": {
        "id": "6xRks7S7DkBl"
      },
      "execution_count": null,
      "outputs": []
    },
    {
      "cell_type": "code",
      "source": [
        "y_list = []"
      ],
      "metadata": {
        "id": "QTbUtryFEUQX"
      },
      "execution_count": null,
      "outputs": []
    },
    {
      "cell_type": "code",
      "source": [
        "for p in x_list:\n",
        "  count = 0\n",
        "  for i in range(50):\n",
        "    l = Lattice(10)\n",
        "    l.percolate(0.4)\n",
        "    if l.existsTopDownPath():\n",
        "      count += 1\n",
        "  y_list.append(count/50)"
      ],
      "metadata": {
        "id": "m8sMW9ZxDp8l"
      },
      "execution_count": null,
      "outputs": []
    },
    {
      "cell_type": "code",
      "source": [
        "plt.plot(x_list, y_list, 'b')"
      ],
      "metadata": {
        "id": "EElI46SuEgLX"
      },
      "execution_count": null,
      "outputs": []
    }
  ]
}