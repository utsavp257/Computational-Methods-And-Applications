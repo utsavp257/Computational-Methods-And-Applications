{
  "nbformat": 4,
  "nbformat_minor": 0,
  "metadata": {
    "colab": {
      "provenance": []
    },
    "kernelspec": {
      "name": "python3",
      "display_name": "Python 3"
    },
    "language_info": {
      "name": "python"
    }
  },
  "cells": [
    {
      "cell_type": "markdown",
      "source": [
        "#Question 1, 2, 3, 4, 5"
      ],
      "metadata": {
        "id": "8umNQcH6nIlB"
      }
    },
    {
      "cell_type": "code",
      "execution_count": null,
      "metadata": {
        "id": "AQSQEypAnE5Q"
      },
      "outputs": [],
      "source": [
        "import numpy as np\n",
        "import copy"
      ]
    },
    {
      "cell_type": "code",
      "source": [
        "class Matrix:\n",
        "  def __init__(self, m, n):\n",
        "    self.dim = [m, n]\n",
        "    self.matrix = np.zeros((m,n), dtype=np.float64)\n",
        "  def __getitem__(self, l):\n",
        "    return self.matrix[l]\n",
        "  def __setitem__(self, l, val):\n",
        "    self.matrix[l] = val\n",
        "  def toEye(self):\n",
        "    self.matrix = np.eye(self.matrix.shape[0], self.matrix.shape[1])\n",
        "  def toOne(self):\n",
        "    self.matrix = np.ones(self.matrix.shape)\n",
        "  def randomize(self):\n",
        "    self.matrix = np.random.rand(self.matrix.shape[0], self.matrix.shape[1])\n",
        "  def t(self):\n",
        "    return Matrix(self.matrix.T.shape[0], self.matrix.T.shape[1]).fromNumpyArray(self.matrix.T)\n",
        "  def fromNumpyArray(self, array):\n",
        "    self.matrix = array\n",
        "    return self\n",
        "  def __str__(self):\n",
        "    str_out = f\"A {self.dim[0]} x {self.dim[1]} matrix with entries:\\n\"\n",
        "    for i in range(self.dim[0]):\n",
        "      for j in range(self.dim[1]):\n",
        "        str_out += f\"{self.matrix[i,j]}\"\n",
        "        if j != self.dim[1]-1:\n",
        "          str_out += \",\"\n",
        "        else:\n",
        "          str_out += \"\\n\"\n",
        "    return str_out\n",
        "\n",
        "  def __add__(self, other):\n",
        "    if self.matrix.shape != other.matrix.shape:\n",
        "      raise Exception(\"Matrix dimension mismatch\")\n",
        "    result = Matrix(self.matrix.shape[0], self.matrix.shape[1])\n",
        "    result.fromNumpyArray(self.matrix + other.matrix)\n",
        "    return result\n",
        "\n",
        "  def __sub__(self, other):\n",
        "    if self.matrix.shape != other.matrix.shape:\n",
        "      raise Exception(\"Matrix dimension mismatch\")\n",
        "    result = Matrix(self.matrix.shape[0], self.matrix.shape[1])\n",
        "    result.fromNumpyArray(self.matrix - other.matrix)\n",
        "    return result\n",
        "\n",
        "  def __mul__(self, other):\n",
        "    if isinstance(other, Matrix):\n",
        "      if self.matrix.shape[1] != other.matrix.shape[0]:\n",
        "        raise Exception(\"Matrix dimension mismatch\")\n",
        "      result = Matrix(self.matrix.shape[0], other.matrix.shape[1])\n",
        "      result.fromNumpyArray(np.dot(self.matrix, other.matrix))\n",
        "      return result\n",
        "    elif isinstance(other, (int, float)):\n",
        "      result = Matrix(self.matrix.shape[0], self.matrix.shape[1])\n",
        "      result.fromNumpyArray(self.matrix * other)\n",
        "      return result\n",
        "\n",
        "  __rmul__ = __mul__\n",
        "\n",
        "  def norm(self, p):\n",
        "    return np.linalg.norm(self.matrix, ord=p)\n",
        "\n",
        "  # def solvezero(self):\n",
        "  #   if self.matrix.shape[0] < self.matrix.shape[1]:\n",
        "  #     #make the new matrix\n",
        "\n",
        "  #     new_matrix = np.hstack((self.matrix, np.ones((self.matrix.shape[0], self.matrix.shape[1] - self.matrix.shape[0]))))\n",
        "  #     _, r = np.linalg.qr(new_matrix)\n",
        "  #     if r.shape[1] < r.shape[0]:\n",
        "  #       raise Exception(\"Matrix does not have full rank\")\n",
        "  #     return Matrix(r.shape[1], 1).fromNumpyArray(np.linalg.solve(r, np.zeros(r.shape[1])).reshape(-1, 1))\n",
        "  #   else:\n",
        "  #     _, r = np.linalg.qr(self.matrix)\n",
        "  #     if r.shape[1] < r.shape[0]:\n",
        "  #       raise Exception(\"Matrix does not have full rank\")\n",
        "  #     return Matrix(r.shape[1], 1).fromNumpyArray(np.linalg.solve(r, np.zeros(r.shape[1])).reshape(-1, 1))\n",
        "\n",
        "  # def solvezero(self):\n",
        "  #       if self.matrix.shape[0] < self.matrix.shape[1]:\n",
        "  #           new_matrix = np.hstack((self.matrix, np.ones((self.matrix.shape[0], self.matrix.shape[1] - self.matrix.shape[0]))))\n",
        "  #           solution = np.linalg.lstsq(new_matrix, np.zeros(new_matrix.shape[0]), rcond=None)[0]\n",
        "  #           return Matrix(self.matrix.shape[1], 1).fromNumpyArray(solution.reshape(-1, 1))\n",
        "  #       else:\n",
        "  #           solution = np.linalg.lstsq(self.matrix, np.zeros(self.matrix.shape[0]), rcond=None)[0]\n",
        "  #           return Matrix(self.matrix.shape[1], 1).fromNumpyArray(solution.reshape(-1, 1))\n",
        "\n",
        "  def solvezero(self):\n",
        "    if self.matrix.shape[0] < self.matrix.shape[1]:\n",
        "      new_b = np.zeros(self.matrix.shape[0])\n",
        "      min_dim = min(self.dim)\n",
        "      #print(f\"min_dim is {min_dim}\")\n",
        "      for i in range(self.dim[0]):\n",
        "        for j in range(self.dim[1]):\n",
        "          if j>=min_dim:\n",
        "            new_b[i] -= self.matrix[i,j]\n",
        "      new_matrix = np.zeros([self.matrix.shape[0],self.matrix.shape[0]])\n",
        "      for i in range(self.dim[0]):\n",
        "        for j in range(self.dim[1]):\n",
        "          if j>=min_dim:\n",
        "            continue\n",
        "          else:\n",
        "            new_matrix[i,j] = self.matrix[i,j]\n",
        "      #print(\"new matrix\")\n",
        "      #print(new_matrix)\n",
        "      #print(\"new_b\")\n",
        "      #print(new_b)\n",
        "      q, r = np.linalg.qr(new_matrix)\n",
        "      #b = np.zeros(q.shape[0])\n",
        "      b_m = Matrix(1, new_b.shape[0]).fromNumpyArray(new_b)\n",
        "      q_t = Matrix(q.shape[1], q.shape[0]).fromNumpyArray(q.T)\n",
        "      if r.shape[0] > r.shape[1]:\n",
        "        raise Exception(\"Matrix does not have a full rank or sm\")\n",
        "      #print(r.shape)\n",
        "      #print(\"ans\")\n",
        "      #print((np.linalg.solve(new_matrix, new_b)).reshape(-1, 1))\n",
        "      ans = (np.linalg.solve(new_matrix, new_b)).reshape(-1, 1)\n",
        "      #print(ans.shape[0])\n",
        "      idk_list = []\n",
        "      for i in range(self.matrix.shape[1]-ans.shape[0]):\n",
        "        idk_list.append(1)\n",
        "      #print(idk_list)\n",
        "      ans = np.append(ans, np.array(idk_list))\n",
        "      #print(self.matrix.shape[1])\n",
        "      #print(ans.reshape(-1,1))\n",
        "      return Matrix(ans.shape[0], 1).fromNumpyArray(ans.reshape(-1,1))\n",
        "    else:\n",
        "      q, r = np.linalg.qr(self.matrix)\n",
        "      b = np.zeros(q.shape[0])\n",
        "      b_m = Matrix(1, b.shape[0]).fromNumpyArray(b)\n",
        "      q_t = Matrix(q.shape[1], q.shape[0]).fromNumpyArray(q.T)\n",
        "      #rhs = q_t*b_m\n",
        "      if r.shape[0] > r.shape[1]:\n",
        "        raise Exception(\"Matrix does not have a full rank or sm\")\n",
        "      return Matrix(r.shape[1], 1).fromNumpyArray(np.linalg.solve(r, np.zeros(r.shape[1])).reshape(-1, 1))\n",
        "      # res = np.linalg.solve(r, rhs.matrix)\n",
        "      # return res\n",
        "  def dominantEigen(self):\n",
        "    x = np.random.rand(self.matrix.shape[1], 1)\n",
        "    for _ in range(100):\n",
        "      x = np.dot(self.matrix, x)\n",
        "      x = x / np.linalg.norm(x)\n",
        "    eigenvalue = np.dot(np.dot(x.T, self.matrix), x)\n",
        "    return eigenvalue[0][0], Matrix(x.shape[0], x.shape[1]).fromNumpyArray(x)\n",
        "\n",
        "  def power_method(self, matrix):\n",
        "    x = np.random.rand(matrix.shape[1], 1)\n",
        "    for _ in range(100):\n",
        "      x = np.dot(matrix, x)\n",
        "      x = x / np.linalg.norm(x)\n",
        "    eigenvalue = np.dot(np.dot(x.T, matrix), x)\n",
        "    return eigenvalue[0][0], x\n",
        "\n",
        "  # def deflate(self):\n",
        "  #   eigenvalues = []\n",
        "  #   eigenvectors = []\n",
        "\n",
        "  #   while self.matrix.shape[0] > 1:\n",
        "  #     eigenvalue, eigenvector = self.power_method()\n",
        "\n",
        "  #     eigenvalues.append(eigenvalue)\n",
        "  #     eigenvectors.append(eigenvector)\n",
        "\n",
        "  #     self.matrix = self.matrix - eigenvalue * np.dot(eigenvector, eigenvector.T)\n",
        "\n",
        "  #   eigenvalues.append(0)\n",
        "  #   eigenvectors.append(np.eye(self.matrix.shape[0])[:, -1].reshape(-1, 1))\n",
        "\n",
        "  #   return eigenvalues, eigenvectors\n",
        "\n",
        "  def deflate(self, max_iterations=10000, threshold=1e-6):\n",
        "    matrix_copy = self.matrix.copy()\n",
        "    eigenvalues = []\n",
        "    eigenvectors = []\n",
        "\n",
        "    for _ in range(max_iterations):\n",
        "      if np.linalg.norm(matrix_copy) < threshold:\n",
        "        break\n",
        "\n",
        "      eigenvalue, eigenvector = self.power_method(matrix_copy)\n",
        "\n",
        "      eigenvalues.append(eigenvalue)\n",
        "      eigenvectors.append(eigenvector)\n",
        "\n",
        "      matrix_copy = matrix_copy - eigenvalue * np.dot(eigenvector, eigenvector.T)\n",
        "\n",
        "      if len(set(eigenvalues)) < len(eigenvalues):\n",
        "        break\n",
        "\n",
        "    zero_count = matrix_copy.shape[0] - len(eigenvalues)\n",
        "    eigenvalues.extend([0] * zero_count)\n",
        "    eigenvectors.extend([np.eye(matrix_copy.shape[0])[:, -i].reshape(-1, 1) for i in range(1, zero_count + 1)])\n",
        "\n",
        "    return eigenvalues, eigenvectors\n",
        "\n",
        "  def qr_algorithm(self, max_iterations=100, threshold=1e-6):\n",
        "        A = self.matrix.copy()\n",
        "\n",
        "        for _ in range(max_iterations):\n",
        "            Q, R = np.linalg.qr(A)\n",
        "\n",
        "            A = np.dot(R, Q)\n",
        "\n",
        "            # Check convergence\n",
        "            off_diag_sum = np.sum(np.abs(A - np.diag(np.diag(A))))\n",
        "            if off_diag_sum < threshold:\n",
        "                break\n",
        "\n",
        "        eigenvalues = np.diag(A)\n",
        "        return eigenvalues\n",
        "\n",
        "  def solve_eigenvectors(self, eigenvalues):\n",
        "        n = self.matrix.shape[0]\n",
        "        eigenvectors = []\n",
        "\n",
        "        for eigval in eigenvalues:\n",
        "            A_minus_lambda_I = self.matrix - eigval * np.eye(n)\n",
        "            try:\n",
        "                eigenvector = np.linalg.solve(A_minus_lambda_I, np.zeros(n))\n",
        "                eigenvector = eigenvector / np.linalg.norm(eigenvector)\n",
        "            except np.linalg.LinAlgError:\n",
        "                eigenvector = np.zeros(n)\n",
        "            eigenvectors.append(eigenvector.reshape(-1, 1))\n",
        "\n",
        "        return eigenvectors\n",
        "\n",
        "  def qreig(self, max_iterations=100, threshold=1e-6):   #always returns null eigenvectors\n",
        "        eigenvalues = self.qr_algorithm(max_iterations, threshold)\n",
        "        eigenvectors = self.solve_eigenvectors(eigenvalues)\n",
        "        return eigenvalues, eigenvectors\n",
        "\n",
        "  def svd(self):\n",
        "        m, n = self.matrix.shape\n",
        "\n",
        "        # Step 1: Compute A^T * A\n",
        "        ATA = np.dot(self.matrix.T, self.matrix)\n",
        "\n",
        "        # Step 2: Compute eigenvectors and eigenvalues of A^T * A\n",
        "        eigenvalues, V = np.linalg.eigh(ATA)\n",
        "\n",
        "        # Step 3: Compute singular values and right singular vectors\n",
        "        s = np.sqrt(np.maximum(eigenvalues, 0))\n",
        "        nonzero_indices = np.where(s > 1e-10)[0]\n",
        "        s = s[nonzero_indices]\n",
        "        V = V[:, nonzero_indices]\n",
        "        Vt = V.T\n",
        "\n",
        "        # Step 4: Compute U\n",
        "        U = np.dot(self.matrix, V) / s\n",
        "\n",
        "        return Matrix(U.shape[0], U.shape[1]).fromNumpyArray(U), Matrix(len(s), 1).fromNumpyArray(s), Matrix(Vt.shape[0], Vt.shape[1]).fromNumpyArray(Vt)\n"
      ],
      "metadata": {
        "id": "mF-XTsLboFpF"
      },
      "execution_count": null,
      "outputs": []
    },
    {
      "cell_type": "code",
      "source": [
        "m = Matrix(3, 4); m.randomize(); u, s, v = m.svd()\n",
        "print(u * u.t())\n",
        "print(s)\n",
        "print(v * v.t())\n",
        "print(m)\n",
        "print(u * s * v.t())"
      ],
      "metadata": {
        "colab": {
          "base_uri": "https://localhost:8080/",
          "height": 419
        },
        "id": "eRzf8Sukaq88",
        "outputId": "551148cc-66e1-44c5-d553-706570c1733a"
      },
      "execution_count": null,
      "outputs": [
        {
          "output_type": "stream",
          "name": "stdout",
          "text": [
            "A 3 x 3 matrix with entries:\n",
            "1.0000000000000007,2.2162466305064968e-16,1.503963900093598e-16\n",
            "2.2162466305064968e-16,0.9999999999999998,-4.26011157474788e-16\n",
            "1.503963900093598e-16,-4.26011157474788e-16,1.0\n",
            "\n"
          ]
        },
        {
          "output_type": "error",
          "ename": "IndexError",
          "evalue": "too many indices for array: array is 1-dimensional, but 2 were indexed",
          "traceback": [
            "\u001b[0;31m---------------------------------------------------------------------------\u001b[0m",
            "\u001b[0;31mIndexError\u001b[0m                                Traceback (most recent call last)",
            "\u001b[0;32m<ipython-input-3-3c3c8ab1aced>\u001b[0m in \u001b[0;36m<cell line: 3>\u001b[0;34m()\u001b[0m\n\u001b[1;32m      1\u001b[0m \u001b[0mm\u001b[0m \u001b[0;34m=\u001b[0m \u001b[0mMatrix\u001b[0m\u001b[0;34m(\u001b[0m\u001b[0;36m3\u001b[0m\u001b[0;34m,\u001b[0m \u001b[0;36m4\u001b[0m\u001b[0;34m)\u001b[0m\u001b[0;34m;\u001b[0m \u001b[0mm\u001b[0m\u001b[0;34m.\u001b[0m\u001b[0mrandomize\u001b[0m\u001b[0;34m(\u001b[0m\u001b[0;34m)\u001b[0m\u001b[0;34m;\u001b[0m \u001b[0mu\u001b[0m\u001b[0;34m,\u001b[0m \u001b[0ms\u001b[0m\u001b[0;34m,\u001b[0m \u001b[0mv\u001b[0m \u001b[0;34m=\u001b[0m \u001b[0mm\u001b[0m\u001b[0;34m.\u001b[0m\u001b[0msvd\u001b[0m\u001b[0;34m(\u001b[0m\u001b[0;34m)\u001b[0m\u001b[0;34m\u001b[0m\u001b[0;34m\u001b[0m\u001b[0m\n\u001b[1;32m      2\u001b[0m \u001b[0mprint\u001b[0m\u001b[0;34m(\u001b[0m\u001b[0mu\u001b[0m \u001b[0;34m*\u001b[0m \u001b[0mu\u001b[0m\u001b[0;34m.\u001b[0m\u001b[0mt\u001b[0m\u001b[0;34m(\u001b[0m\u001b[0;34m)\u001b[0m\u001b[0;34m)\u001b[0m\u001b[0;34m\u001b[0m\u001b[0;34m\u001b[0m\u001b[0m\n\u001b[0;32m----> 3\u001b[0;31m \u001b[0mprint\u001b[0m\u001b[0;34m(\u001b[0m\u001b[0ms\u001b[0m\u001b[0;34m)\u001b[0m\u001b[0;34m\u001b[0m\u001b[0;34m\u001b[0m\u001b[0m\n\u001b[0m\u001b[1;32m      4\u001b[0m \u001b[0mprint\u001b[0m\u001b[0;34m(\u001b[0m\u001b[0mv\u001b[0m \u001b[0;34m*\u001b[0m \u001b[0mv\u001b[0m\u001b[0;34m.\u001b[0m\u001b[0mt\u001b[0m\u001b[0;34m(\u001b[0m\u001b[0;34m)\u001b[0m\u001b[0;34m)\u001b[0m\u001b[0;34m\u001b[0m\u001b[0;34m\u001b[0m\u001b[0m\n\u001b[1;32m      5\u001b[0m \u001b[0mprint\u001b[0m\u001b[0;34m(\u001b[0m\u001b[0mm\u001b[0m\u001b[0;34m)\u001b[0m\u001b[0;34m\u001b[0m\u001b[0;34m\u001b[0m\u001b[0m\n",
            "\u001b[0;32m<ipython-input-2-eb3a74001f0a>\u001b[0m in \u001b[0;36m__str__\u001b[0;34m(self)\u001b[0m\n\u001b[1;32m     22\u001b[0m     \u001b[0;32mfor\u001b[0m \u001b[0mi\u001b[0m \u001b[0;32min\u001b[0m \u001b[0mrange\u001b[0m\u001b[0;34m(\u001b[0m\u001b[0mself\u001b[0m\u001b[0;34m.\u001b[0m\u001b[0mdim\u001b[0m\u001b[0;34m[\u001b[0m\u001b[0;36m0\u001b[0m\u001b[0;34m]\u001b[0m\u001b[0;34m)\u001b[0m\u001b[0;34m:\u001b[0m\u001b[0;34m\u001b[0m\u001b[0;34m\u001b[0m\u001b[0m\n\u001b[1;32m     23\u001b[0m       \u001b[0;32mfor\u001b[0m \u001b[0mj\u001b[0m \u001b[0;32min\u001b[0m \u001b[0mrange\u001b[0m\u001b[0;34m(\u001b[0m\u001b[0mself\u001b[0m\u001b[0;34m.\u001b[0m\u001b[0mdim\u001b[0m\u001b[0;34m[\u001b[0m\u001b[0;36m1\u001b[0m\u001b[0;34m]\u001b[0m\u001b[0;34m)\u001b[0m\u001b[0;34m:\u001b[0m\u001b[0;34m\u001b[0m\u001b[0;34m\u001b[0m\u001b[0m\n\u001b[0;32m---> 24\u001b[0;31m         \u001b[0mstr_out\u001b[0m \u001b[0;34m+=\u001b[0m \u001b[0;34mf\"{self.matrix[i,j]}\"\u001b[0m\u001b[0;34m\u001b[0m\u001b[0;34m\u001b[0m\u001b[0m\n\u001b[0m\u001b[1;32m     25\u001b[0m         \u001b[0;32mif\u001b[0m \u001b[0mj\u001b[0m \u001b[0;34m!=\u001b[0m \u001b[0mself\u001b[0m\u001b[0;34m.\u001b[0m\u001b[0mdim\u001b[0m\u001b[0;34m[\u001b[0m\u001b[0;36m1\u001b[0m\u001b[0;34m]\u001b[0m\u001b[0;34m-\u001b[0m\u001b[0;36m1\u001b[0m\u001b[0;34m:\u001b[0m\u001b[0;34m\u001b[0m\u001b[0;34m\u001b[0m\u001b[0m\n\u001b[1;32m     26\u001b[0m           \u001b[0mstr_out\u001b[0m \u001b[0;34m+=\u001b[0m \u001b[0;34m\",\"\u001b[0m\u001b[0;34m\u001b[0m\u001b[0;34m\u001b[0m\u001b[0m\n",
            "\u001b[0;31mIndexError\u001b[0m: too many indices for array: array is 1-dimensional, but 2 were indexed"
          ]
        }
      ]
    },
    {
      "cell_type": "code",
      "source": [
        "# Test case\n",
        "m = Matrix(5, 5)\n",
        "m[0,0] = 2; m[1,1] = 3; m[2,2] = 2\n",
        "#m = m + m.t()\n",
        "print(m)\n",
        "e, v = m.qreig()\n",
        "print(e)\n",
        "print(v) # v[:,i] is the eigenvector for eigenvalue e[i,0]\n",
        "print(np.linalg.eig(m.matrix))"
      ],
      "metadata": {
        "id": "e8oEry69mexR"
      },
      "execution_count": null,
      "outputs": []
    },
    {
      "cell_type": "code",
      "source": [
        "demoa = [[-2.98085626,1.04168142,0.98886631,0.22310307],\n",
        " [ 1.04168142,-2.37934902,0.76703755,1.07485722],\n",
        " [ 0.98886631,0.76703755,-2.19541932,0.96974262],\n",
        " [ 0.22310307,1.07485722,0.96974262,-2.92893444]]\n",
        "demob = np.zeros(4)\n",
        "checkmat = np.linalg.lstsq(demoa, demob)[0]\n",
        "print(checkmat)"
      ],
      "metadata": {
        "id": "SxJjsLj_5CDt"
      },
      "execution_count": null,
      "outputs": []
    },
    {
      "cell_type": "code",
      "source": [
        "m = Matrix(5, 5)\n",
        "m[0,0] = 2; m[1,1] = 3; m[2,2] = 2\n",
        "# print(m.matrix)\n",
        "e, v = m.deflate()\n",
        "print(\"e\")\n",
        "print(e)\n",
        "print(\"v\")\n",
        "print(v) # v[:,i] is the eigenvector for eigenvalue e[i,0]\n",
        "print(\"np\")\n",
        "print(np.linalg.eig(m.matrix))\n",
        "# print(m.matrix)\n",
        "# print(np.linalg.eig([[2, 0, 0, 0, 0],[0, 3, 0, 0, 0],[0, 0, 2, 0, 0],[0, 0, 0, 0, 0],[0, 0, 0, 0, 0]]))"
      ],
      "metadata": {
        "colab": {
          "base_uri": "https://localhost:8080/"
        },
        "id": "bylKRYW_iIK0",
        "outputId": "a051e950-27d7-4be0-8265-58d0c278bfb0"
      },
      "execution_count": null,
      "outputs": [
        {
          "output_type": "stream",
          "name": "stdout",
          "text": [
            "e\n",
            "[3.0, 2.0000000000000004, 2.0000000000000004, 0, 0]\n",
            "v\n",
            "[array([[6.31076659e-18],\n",
            "       [1.00000000e+00],\n",
            "       [8.27014228e-18],\n",
            "       [0.00000000e+00],\n",
            "       [0.00000000e+00]]), array([[ 7.37476776e-01],\n",
            "       [-1.53592056e-17],\n",
            "       [ 6.75372493e-01],\n",
            "       [ 0.00000000e+00],\n",
            "       [ 0.00000000e+00]]), array([[-6.75372493e-01],\n",
            "       [-2.75537955e-18],\n",
            "       [ 7.37476776e-01],\n",
            "       [ 0.00000000e+00],\n",
            "       [ 0.00000000e+00]]), array([[0.],\n",
            "       [0.],\n",
            "       [0.],\n",
            "       [0.],\n",
            "       [1.]]), array([[0.],\n",
            "       [0.],\n",
            "       [0.],\n",
            "       [1.],\n",
            "       [0.]])]\n",
            "np\n",
            "EigResult(eigenvalues=array([2., 3., 2., 0., 0.]), eigenvectors=array([[1., 0., 0., 0., 0.],\n",
            "       [0., 1., 0., 0., 0.],\n",
            "       [0., 0., 1., 0., 0.],\n",
            "       [0., 0., 0., 1., 0.],\n",
            "       [0., 0., 0., 0., 1.]]))\n"
          ]
        }
      ]
    },
    {
      "cell_type": "code",
      "source": [
        "m = Matrix(4, 4)\n",
        "m.randomize()\n",
        "m = m + m.t()\n",
        "e, v = m.deflate()\n",
        "print(\"e\")\n",
        "print(e)\n",
        "print(\"v\")\n",
        "print(v) # v[:,i] is the eigenvector for eigenvalue e[i,0]\n",
        "print(\"np\")\n",
        "print(np.linalg.eig(m.matrix))"
      ],
      "metadata": {
        "colab": {
          "base_uri": "https://localhost:8080/"
        },
        "id": "GwejQCqofEmm",
        "outputId": "7e74fcc8-9425-4c86-f336-a8d6b29c5b61"
      },
      "execution_count": null,
      "outputs": [
        {
          "output_type": "stream",
          "name": "stdout",
          "text": [
            "e\n",
            "[3.4616357296476066, -1.1365814939438177, 0.5433403485449291, -0.15174693292087685]\n",
            "v\n",
            "[array([[0.40447893],\n",
            "       [0.63929186],\n",
            "       [0.48391214],\n",
            "       [0.43992244]]), array([[ 0.34511871],\n",
            "       [-0.61769169],\n",
            "       [ 0.68507546],\n",
            "       [-0.17326761]]), array([[ 0.73745124],\n",
            "       [-0.27035325],\n",
            "       [-0.53777453],\n",
            "       [ 0.30638757]]), array([[ 0.41647994],\n",
            "       [ 0.36969178],\n",
            "       [-0.0854354 ],\n",
            "       [-0.82617991]])]\n",
            "np\n",
            "EigResult(eigenvalues=array([ 3.46163573,  0.54334035, -1.13658149, -0.15174693]), eigenvectors=array([[-0.40447893, -0.73745124,  0.34511871, -0.41647994],\n",
            "       [-0.63929186,  0.27035325, -0.61769169, -0.36969178],\n",
            "       [-0.48391214,  0.53777453,  0.68507546,  0.0854354 ],\n",
            "       [-0.43992244, -0.30638757, -0.17326761,  0.82617991]]))\n"
          ]
        }
      ]
    },
    {
      "cell_type": "code",
      "source": [
        "m = Matrix(2, 3)\n",
        "for i in range(2):\n",
        "  for j in range(3):\n",
        "    m[i, j] = (i+1) + (j+1)\n",
        "A = m.matrix\n",
        "print(m)\n",
        "print(m.solvezero())"
      ],
      "metadata": {
        "colab": {
          "base_uri": "https://localhost:8080/"
        },
        "id": "AgWZ1k3jzoio",
        "outputId": "f587c25e-8d6d-4edd-9b51-87f95a4edc85"
      },
      "execution_count": null,
      "outputs": [
        {
          "output_type": "stream",
          "name": "stdout",
          "text": [
            "A 2 x 3 matrix with entries:\n",
            "2.0,3.0,4.0\n",
            "3.0,4.0,5.0\n",
            "\n",
            "A 3 x 1 matrix with entries:\n",
            "1.0\n",
            "-2.0\n",
            "1.0\n",
            "\n"
          ]
        }
      ]
    },
    {
      "cell_type": "code",
      "source": [
        "m = Matrix(4, 3)\n",
        "for i in range(4):\n",
        "  for j in range(3):\n",
        "    m[i, j] = (i+1) + (j+1)\n",
        "print(m); print(m.solvezero())"
      ],
      "metadata": {
        "colab": {
          "base_uri": "https://localhost:8080/"
        },
        "id": "wz9bglB8_EXd",
        "outputId": "708eb0e2-a79b-4c64-fad1-85f177e2ee7d"
      },
      "execution_count": null,
      "outputs": [
        {
          "output_type": "stream",
          "name": "stdout",
          "text": [
            "A 4 x 3 matrix with entries:\n",
            "2.0,3.0,4.0\n",
            "3.0,4.0,5.0\n",
            "4.0,5.0,6.0\n",
            "5.0,6.0,7.0\n",
            "\n",
            "A 3 x 1 matrix with entries:\n",
            "-0.0\n",
            "-0.0\n",
            "0.0\n",
            "\n"
          ]
        }
      ]
    },
    {
      "cell_type": "code",
      "source": [
        "m = Matrix(3, 3)\n",
        "for i in range(3):\n",
        "  for j in range(3):\n",
        "    m[i, j] = (i+1) ** (j+1)\n",
        "print(m); print(m.solvezero())"
      ],
      "metadata": {
        "colab": {
          "base_uri": "https://localhost:8080/"
        },
        "id": "w12NAPIfCixM",
        "outputId": "95e75ab1-c8ac-4329-9010-8a4ba9f7e0f7"
      },
      "execution_count": null,
      "outputs": [
        {
          "output_type": "stream",
          "name": "stdout",
          "text": [
            "A 3 x 3 matrix with entries:\n",
            "1.0,1.0,1.0\n",
            "2.0,4.0,8.0\n",
            "3.0,9.0,27.0\n",
            "\n",
            "A 3 x 1 matrix with entries:\n",
            "-0.0\n",
            "0.0\n",
            "-0.0\n",
            "\n"
          ]
        }
      ]
    },
    {
      "cell_type": "code",
      "source": [
        "m = Matrix(3, 3)\n",
        "for i in range(3):\n",
        "  for j in range(3):\n",
        "    m[i, j] = (i+1) ** (j+1)\n",
        "print(m)\n",
        "e, v = m.dominantEigen()\n",
        "print(e); print(v)"
      ],
      "metadata": {
        "colab": {
          "base_uri": "https://localhost:8080/"
        },
        "id": "fT8xF8mJCvIu",
        "outputId": "cf31cc8d-5a37-4a71-a64a-c4704015b02a"
      },
      "execution_count": null,
      "outputs": [
        {
          "output_type": "stream",
          "name": "stdout",
          "text": [
            "A 3 x 3 matrix with entries:\n",
            "1.0,1.0,1.0\n",
            "2.0,4.0,8.0\n",
            "3.0,9.0,27.0\n",
            "\n",
            "29.942767464139482\n",
            "A 3 x 1 matrix with entries:\n",
            "0.04323030032894361\n",
            "0.2974447163133834\n",
            "0.9537598135121442\n",
            "\n"
          ]
        }
      ]
    },
    {
      "cell_type": "code",
      "source": [
        "m = Matrix(2, 3)"
      ],
      "metadata": {
        "id": "MOfrCCqnoxNR"
      },
      "execution_count": null,
      "outputs": []
    },
    {
      "cell_type": "code",
      "source": [
        "print(m[1, 2])"
      ],
      "metadata": {
        "colab": {
          "base_uri": "https://localhost:8080/"
        },
        "id": "qFSQZj_epU7H",
        "outputId": "a248a8fe-fd16-4418-fc99-8a0eb5153451"
      },
      "execution_count": null,
      "outputs": [
        {
          "output_type": "stream",
          "name": "stdout",
          "text": [
            "0.0\n"
          ]
        }
      ]
    },
    {
      "cell_type": "code",
      "source": [
        "m[1,2] = 4\n",
        "print(m[1, 2])"
      ],
      "metadata": {
        "colab": {
          "base_uri": "https://localhost:8080/"
        },
        "id": "87nAB6PZp3hm",
        "outputId": "888f5ade-d0a6-4de6-c624-9fc5b4920eaf"
      },
      "execution_count": null,
      "outputs": [
        {
          "output_type": "stream",
          "name": "stdout",
          "text": [
            "4.0\n"
          ]
        }
      ]
    },
    {
      "cell_type": "code",
      "source": [
        "m.toEye()"
      ],
      "metadata": {
        "id": "hK6DM_lZqHWv"
      },
      "execution_count": null,
      "outputs": []
    },
    {
      "cell_type": "code",
      "source": [
        "m.toOne()"
      ],
      "metadata": {
        "colab": {
          "base_uri": "https://localhost:8080/"
        },
        "id": "LxnxprvnsiR3",
        "outputId": "2c02f25f-eb8a-444a-d3d9-71834d18d35e"
      },
      "execution_count": null,
      "outputs": [
        {
          "output_type": "stream",
          "name": "stdout",
          "text": [
            "[[1. 1. 1.]\n",
            " [1. 1. 1.]]\n"
          ]
        }
      ]
    },
    {
      "cell_type": "code",
      "source": [
        "#q3 done"
      ],
      "metadata": {
        "id": "wGH4GE2hEV7c"
      },
      "execution_count": null,
      "outputs": []
    },
    {
      "cell_type": "markdown",
      "source": [
        "#Question 6"
      ],
      "metadata": {
        "id": "jyo8cywfboz0"
      }
    },
    {
      "cell_type": "code",
      "source": [
        "import matplotlib.pyplot as plt\n",
        "import numpy as np\n",
        "import random\n",
        "import networkx as nx"
      ],
      "metadata": {
        "id": "oIHJaxknbtEL"
      },
      "execution_count": null,
      "outputs": []
    },
    {
      "cell_type": "code",
      "source": [
        "class DirectedGraph:\n",
        "  def __init__(self, numVertices=-1):\n",
        "    self.maxSize = numVertices\n",
        "    self.numEdges = 0\n",
        "    if numVertices==-1:\n",
        "      self.adjList = {}\n",
        "      self.maxSize = -1\n",
        "      self.numVertices = 0\n",
        "    else:\n",
        "      self.adjList = {}\n",
        "      self.numVertices = numVertices\n",
        "      for i in range(1, numVertices+1):\n",
        "        self.adjList[i] = []\n",
        "\n",
        "  def addNode(self, nodeIndex): #forgot to add negative check\n",
        "    if self.maxSize != -1:\n",
        "      if nodeIndex<=self.maxSize:\n",
        "        self.adjList[nodeIndex] = []\n",
        "      else:\n",
        "        raise Exception('Node index cannot exceed number of nodes')\n",
        "    else:  #free graph\n",
        "      self.adjList[nodeIndex] = []\n",
        "      self.numVertices += 1\n",
        "\n",
        "  def addEdge(self, a, b):\n",
        "    if a not in self.adjList.keys():\n",
        "      self.addNode(a)\n",
        "    if b not in self.adjList.keys():\n",
        "      self.addNode(b)\n",
        "    if b not in self.adjList[a]:\n",
        "      self.adjList[a].append(b)\n",
        "      #self.adjList[b].append(a)\n",
        "      self.numEdges += 1\n",
        "\n",
        "  def __add__(self, other):\n",
        "    if type(other) is int:\n",
        "      self.addNode(other)\n",
        "    if type(other) is tuple:\n",
        "      self.addEdge(other[0], other[1])\n",
        "    return self\n",
        "\n",
        "  def __str__(self):\n",
        "    outstr= f\"Graph with {self.numVertices} nodes and {self.numEdges} edges. Neighbours of the nodes are belows:\\n\"\n",
        "    for i in self.adjList.keys():\n",
        "      outstr += f\"Node {i}: {self.adjList[i]}\\n\"\n",
        "    return outstr\n",
        "\n",
        "  def plotDegDist(self):\n",
        "    node_degrees = []\n",
        "    for i in range(1, self.numVertices+1):\n",
        "      node_degrees.append(len(self.adjList[i]))\n",
        "\n",
        "    node_count = {}\n",
        "    # for i in range(0, max(node_degrees)+1):\n",
        "    for i in range(0, self.numVertices+1):\n",
        "      node_count[i] = 0\n",
        "    for deg in node_degrees:\n",
        "      node_count[deg] += 1\n",
        "    for i in node_count.keys():\n",
        "      node_count[i] /= self.numVertices\n",
        "    # xplots = np.arange(0, max(node_count.keys())+1, 1)\n",
        "    xplots = np.arange(0, self.numVertices, 1)\n",
        "    yplots = [node_count[i] for i in xplots]\n",
        "    # print(xplots)\n",
        "    # print(yplots)\n",
        "    plt.plot(xplots, yplots, 'o', marker='.', markersize = 5)\n",
        "    plt.axvline(x = sum(node_degrees)/len(node_degrees), color = 'red', label = 'axvline - full height')\n",
        "    plt.show()\n",
        "\n",
        "\n",
        "  def isConnected(self):\n",
        "    queue = []\n",
        "    visited = []\n",
        "    curr_vertex = list(self.adjList.keys())[0]\n",
        "    queue.append(curr_vertex)\n",
        "    while(len(queue)!=0):\n",
        "      curr_vertex = queue.pop(0)\n",
        "      for i in self.adjList[curr_vertex]:\n",
        "        if i not in visited:\n",
        "          visited.append(i)\n",
        "          queue.append(i)\n",
        "    if(len(visited)==self.numVertices):\n",
        "      return True\n",
        "    else:\n",
        "      return False\n",
        "\n",
        "  def oneTwoComponentSizes(self):\n",
        "    queue = []\n",
        "    visited = []\n",
        "    conn_component_size = []\n",
        "    temp = 0\n",
        "    for vert in self.adjList.keys():\n",
        "      if vert not in visited:\n",
        "        flag = 0\n",
        "        curr_vertex = vert\n",
        "        visited.append(vert)\n",
        "        queue.append(curr_vertex)\n",
        "        while(len(queue)!=0):\n",
        "          curr_vertex = queue.pop(0)\n",
        "          #visited.append(curr_vertex)\n",
        "          #print(f\" adj List is {self.adjList[curr_vertex]}\")\n",
        "          if (len(self.adjList[curr_vertex])==0):\n",
        "            flag = 1\n",
        "          for i in self.adjList[curr_vertex]:\n",
        "            if i not in visited:\n",
        "              visited.append(i)\n",
        "              queue.append(i)\n",
        "        temp = len(visited) - temp\n",
        "        if flag ==0:\n",
        "          conn_component_size.append(temp)\n",
        "        else:\n",
        "          conn_component_size.append(1)\n",
        "    #print(conn_component_size)\n",
        "    conn_component_size.sort()\n",
        "    return [conn_component_size[-1], conn_component_size[-2]]\n",
        "\n",
        "  # def pagerank(self, df):\n",
        "  #   #idk what am I doing here\n",
        "  #   list_1 = [1/self.maxSize]\n",
        "  #   vertical_mat = []\n",
        "  #   for i in range(self.maxSize):\n",
        "  #     vertical_mat.append(list_1)\n",
        "\n",
        "  #   iter_matrix = []\n",
        "  #   for i in range(self.maxSize):\n",
        "  #     iter_matrix.append([])\n",
        "  #     for j in range(self.maxSize):\n",
        "  #       iter_matrix[-1].append(0)\n",
        "  #   #print(iter_matrix)\n",
        "  #   for i in self.adjList.keys():\n",
        "  #     for j in self.adjList[i]:\n",
        "  #       #print(f'{j}, {i}')\n",
        "  #       iter_matrix[j-1][i-1] = 1\n",
        "  #       #print(iter_matrix)\n",
        "  #   #print(iter_matrix)\n",
        "\n",
        "  #   nodes_woe = []\n",
        "  #   for i in range(self.maxSize):\n",
        "  #     if len(self.adjList[i+1]):\n",
        "  #       nodes_woe.append(i+1)\n",
        "  #   b = []\n",
        "  #   for i in range(self.maxSize):   #making b\n",
        "  #     b.append([])\n",
        "  #     for j in range(self.maxSize):\n",
        "  #       b[-1].append((1/self.maxSize)*(1-df))\n",
        "\n",
        "  #   for i in range(self.maxSize):   #multiplying df to A\n",
        "  #     for j in range(self.maxSize):\n",
        "  #       iter_matrix[i][j] *= df\n",
        "\n",
        "  #   m = []\n",
        "  #   for i in range(self.maxSize):  #making m\n",
        "  #     m.append([])\n",
        "  #     for j in range(self.maxSize):\n",
        "  #       m[-1].append(0)\n",
        "\n",
        "  #   for i in range(self.maxSize):   #modifying\n",
        "  #     for j in range(self.maxSize):\n",
        "  #       m[i][j] += iter_matrix[i][j] + b[i][j]\n",
        "\n",
        "  #   eig_ans = np.linalg.eig(m)\n",
        "\n",
        "  #   #print(eig_ans)\n",
        "  #   return eig_ans\n",
        "\n",
        "    #m = df*a+(1-df)b\n",
        "    #find eigenvalues of b\n",
        "    # for i in range(self.maxSize):\n",
        "    #   if len(self.adjList[i+1])==0:\n",
        "    #     for j in range(self.maxSize):\n",
        "    #       iter_matrix[j][i] = 1/self.maxSize\n",
        "    # temp_mat = np.dot(iter_matrix, vertical_mat)\n",
        "    # for i in range(100):\n",
        "    #   temp_mat = np.dot(iter_matrix, temp_mat)\n",
        "\n",
        "    # print(temp_mat)\n",
        "    #print(self.adjList)\n",
        "    #print(vertical_mat)\n",
        "    #print(iter_matrix)\n",
        "  def pagerank(self, damping_factor):\n",
        "        # Create transition probability matrix\n",
        "        n = len(self.adjList)\n",
        "        transition_matrix = np.zeros((n, n))\n",
        "        for i in range(n):\n",
        "          num_outlinks = len(self.adjList[i+1])\n",
        "          if num_outlinks == 0:  # Handle dangling nodes\n",
        "              transition_matrix[:, i] = 1 / n\n",
        "          else:\n",
        "              for j in range(n):\n",
        "                  if j+1 in self.adjList[i+1]:\n",
        "                      transition_matrix[j, i] += damping_factor * (1 / num_outlinks)\n",
        "\n",
        "\n",
        "        # Calculate PageRank using eigenvector corresponding to largest eigenvalue\n",
        "        eigenvalues, eigenvectors = np.linalg.eig(transition_matrix)\n",
        "        max_eigenvalue_idx = np.argmax(eigenvalues)\n",
        "        pagerank_vector = np.abs(eigenvectors[:, max_eigenvalue_idx])\n",
        "        pagerank_vector /= np.sum(pagerank_vector)  # Normalize to sum to 1\n",
        "\n",
        "        # Visualize the graph\n",
        "        G = nx.DiGraph()\n",
        "        for node in self.adjList:\n",
        "            G.add_node(node, size=pagerank_vector[node-1] * 1000)  # Scale the size for better visualization\n",
        "        for src, dst_list in self.adjList.items():\n",
        "            for dst in dst_list:\n",
        "                G.add_edge(src, dst)\n",
        "\n",
        "        # Draw the graph\n",
        "        pos = nx.spring_layout(G)\n",
        "        node_size = [G.nodes[node]['size'] for node in G.nodes()]\n",
        "        for x in node_size:\n",
        "          x = x*5\n",
        "        nx.draw(G, pos, with_labels=True, node_size=node_size, node_color='skyblue', edge_color='gray', font_size=8)\n",
        "        plt.show()\n",
        "\n"
      ],
      "metadata": {
        "id": "A7uU-e21r3I2"
      },
      "execution_count": null,
      "outputs": []
    },
    {
      "cell_type": "code",
      "source": [
        "# Testcase\n",
        "p = 0.05\n",
        "n = 25\n",
        "g = DirectedGraph(n)\n",
        "for i in range(n):\n",
        "    for j in range(n):\n",
        "        if i != j and random.random() <= p:\n",
        "            g.addEdge(i+1, j+1)\n",
        "g.pagerank(0.85)"
      ],
      "metadata": {
        "colab": {
          "base_uri": "https://localhost:8080/",
          "height": 516
        },
        "id": "xMGFcZAwKMeC",
        "outputId": "07869fc8-1b28-49b7-b196-d468529761c7"
      },
      "execution_count": null,
      "outputs": [
        {
          "output_type": "display_data",
          "data": {
            "text/plain": [
              "<Figure size 640x480 with 1 Axes>"
            ],
            "image/png": "[encoded data removed]"
          },
          "metadata": {}
        }
      ]
    },
    {
      "cell_type": "code",
      "source": [
        "g.pagerank(0.85)"
      ],
      "metadata": {
        "colab": {
          "base_uri": "https://localhost:8080/",
          "height": 516
        },
        "id": "xKyQgNIqKImL",
        "outputId": "a5c999fb-87b8-4266-a028-c46070a0b7c4"
      },
      "execution_count": null,
      "outputs": [
        {
          "output_type": "display_data",
          "data": {
            "text/plain": [
              "<Figure size 640x480 with 1 Axes>"
            ],
            "image/png": "[encoded data removed]"
          },
          "metadata": {}
        }
      ]
    },
    {
      "cell_type": "code",
      "source": [
        "g = DirectedGraph(3)\n",
        "g.addEdge(1, 3)\n",
        "g.addEdge(2, 3)\n",
        "g.pagerank(0.85)"
      ],
      "metadata": {
        "colab": {
          "base_uri": "https://localhost:8080/",
          "height": 516
        },
        "id": "umotT0j7_ATx",
        "outputId": "90e4c415-db2e-45fc-bf67-78065ab53289"
      },
      "execution_count": null,
      "outputs": [
        {
          "output_type": "display_data",
          "data": {
            "text/plain": [
              "<Figure size 640x480 with 1 Axes>"
            ],
            "image/png": "[encoded data removed]"
          },
          "metadata": {}
        }
      ]
    },
    {
      "cell_type": "code",
      "source": [
        "g = DirectedGraph(10)\n",
        "g.addNode(1)\n",
        "g.addNode(4)\n",
        "g.addEdge(1, 4)\n",
        "g = g + (2, 3)\n",
        "g = g + (4, 5)"
      ],
      "metadata": {
        "id": "pHCwXBD81HR_"
      },
      "execution_count": null,
      "outputs": []
    },
    {
      "cell_type": "code",
      "source": [
        "print(g)"
      ],
      "metadata": {
        "colab": {
          "base_uri": "https://localhost:8080/"
        },
        "id": "IvoRaUM51mxh",
        "outputId": "b22c5bed-0ce7-406c-8cdf-8523cbd8da2c"
      },
      "execution_count": null,
      "outputs": [
        {
          "output_type": "stream",
          "name": "stdout",
          "text": [
            "Graph with 10 nodes and 3 edges. Neighbours of the nodes are belows:\n",
            "Node 1: [4]\n",
            "Node 2: [3]\n",
            "Node 3: []\n",
            "Node 4: [5]\n",
            "Node 5: []\n",
            "Node 6: []\n",
            "Node 7: []\n",
            "Node 8: []\n",
            "Node 9: []\n",
            "Node 10: []\n",
            "\n"
          ]
        }
      ]
    },
    {
      "cell_type": "code",
      "source": [
        "p = 0.05; n = 25\n",
        "g = DirectedGraph(n)\n",
        "for i in range(n):\n",
        "  for j in range(n):\n",
        "    if i != j and random.random() <= p:\n",
        "      g.addEdge(i+1, j+1)\n",
        "print(g)\n",
        "ans = g.pagerank(0.85)\n",
        "print(ans[0])"
      ],
      "metadata": {
        "colab": {
          "base_uri": "https://localhost:8080/",
          "height": 1000
        },
        "id": "e1uTD4Hu14GC",
        "outputId": "4a1974a9-3aa5-4a17-ebd1-b3d8aebce957"
      },
      "execution_count": null,
      "outputs": [
        {
          "output_type": "stream",
          "name": "stdout",
          "text": [
            "Graph with 25 nodes and 33 edges. Neighbours of the nodes are belows:\n",
            "Node 1: [13, 19]\n",
            "Node 2: [5]\n",
            "Node 3: []\n",
            "Node 4: []\n",
            "Node 5: [9]\n",
            "Node 6: [2]\n",
            "Node 7: [23]\n",
            "Node 8: [6]\n",
            "Node 9: []\n",
            "Node 10: []\n",
            "Node 11: [4, 6, 14, 15]\n",
            "Node 12: [3, 10, 14, 19]\n",
            "Node 13: [18, 19]\n",
            "Node 14: []\n",
            "Node 15: [22]\n",
            "Node 16: [1, 3, 13, 24]\n",
            "Node 17: [6]\n",
            "Node 18: [10, 12]\n",
            "Node 19: [22]\n",
            "Node 20: [15]\n",
            "Node 21: []\n",
            "Node 22: [1, 14]\n",
            "Node 23: [5, 14]\n",
            "Node 24: [11, 14]\n",
            "Node 25: []\n",
            "\n"
          ]
        },
        {
          "output_type": "display_data",
          "data": {
            "text/plain": [
              "<Figure size 640x480 with 1 Axes>"
            ],
            "image/png": "[encoded data removed]"
          },
          "metadata": {}
        },
        {
          "output_type": "error",
          "ename": "TypeError",
          "evalue": "'NoneType' object is not subscriptable",
          "traceback": [
            "\u001b[0;31m---------------------------------------------------------------------------\u001b[0m",
            "\u001b[0;31mTypeError\u001b[0m                                 Traceback (most recent call last)",
            "\u001b[0;32m<ipython-input-17-8ae4db97e429>\u001b[0m in \u001b[0;36m<cell line: 9>\u001b[0;34m()\u001b[0m\n\u001b[1;32m      7\u001b[0m \u001b[0mprint\u001b[0m\u001b[0;34m(\u001b[0m\u001b[0mg\u001b[0m\u001b[0;34m)\u001b[0m\u001b[0;34m\u001b[0m\u001b[0;34m\u001b[0m\u001b[0m\n\u001b[1;32m      8\u001b[0m \u001b[0mans\u001b[0m \u001b[0;34m=\u001b[0m \u001b[0mg\u001b[0m\u001b[0;34m.\u001b[0m\u001b[0mpagerank\u001b[0m\u001b[0;34m(\u001b[0m\u001b[0;36m0.85\u001b[0m\u001b[0;34m)\u001b[0m\u001b[0;34m\u001b[0m\u001b[0;34m\u001b[0m\u001b[0m\n\u001b[0;32m----> 9\u001b[0;31m \u001b[0mprint\u001b[0m\u001b[0;34m(\u001b[0m\u001b[0mans\u001b[0m\u001b[0;34m[\u001b[0m\u001b[0;36m0\u001b[0m\u001b[0;34m]\u001b[0m\u001b[0;34m)\u001b[0m\u001b[0;34m\u001b[0m\u001b[0;34m\u001b[0m\u001b[0m\n\u001b[0m",
            "\u001b[0;31mTypeError\u001b[0m: 'NoneType' object is not subscriptable"
          ]
        }
      ]
    },
    {
      "cell_type": "code",
      "source": [
        "#Random code snippets below"
      ],
      "metadata": {
        "id": "6h5lUxRm0vz6"
      },
      "execution_count": null,
      "outputs": []
    },
    {
      "cell_type": "code",
      "source": [
        "import numpy as np\n",
        "xa = range(10)\n",
        "ya = range(10)\n",
        "X, Y = np.meshgrid(xa, ya)\n",
        "print(X)\n",
        "print(Y)"
      ],
      "metadata": {
        "id": "tg_hwEFx3pkm",
        "colab": {
          "base_uri": "https://localhost:8080/"
        },
        "outputId": "1ebb6b19-0c24-47c0-beb9-a305918e7a48"
      },
      "execution_count": null,
      "outputs": [
        {
          "output_type": "stream",
          "name": "stdout",
          "text": [
            "[[0 1 2 3 4 5 6 7 8 9]\n",
            " [0 1 2 3 4 5 6 7 8 9]\n",
            " [0 1 2 3 4 5 6 7 8 9]\n",
            " [0 1 2 3 4 5 6 7 8 9]\n",
            " [0 1 2 3 4 5 6 7 8 9]\n",
            " [0 1 2 3 4 5 6 7 8 9]\n",
            " [0 1 2 3 4 5 6 7 8 9]\n",
            " [0 1 2 3 4 5 6 7 8 9]\n",
            " [0 1 2 3 4 5 6 7 8 9]\n",
            " [0 1 2 3 4 5 6 7 8 9]]\n",
            "[[0 0 0 0 0 0 0 0 0 0]\n",
            " [1 1 1 1 1 1 1 1 1 1]\n",
            " [2 2 2 2 2 2 2 2 2 2]\n",
            " [3 3 3 3 3 3 3 3 3 3]\n",
            " [4 4 4 4 4 4 4 4 4 4]\n",
            " [5 5 5 5 5 5 5 5 5 5]\n",
            " [6 6 6 6 6 6 6 6 6 6]\n",
            " [7 7 7 7 7 7 7 7 7 7]\n",
            " [8 8 8 8 8 8 8 8 8 8]\n",
            " [9 9 9 9 9 9 9 9 9 9]]\n"
          ]
        }
      ]
    },
    {
      "cell_type": "code",
      "source": [
        "arr = [1, 2, 3, 3, 4, 5]\n",
        "arr2d = [arr]\n",
        "arr2d.append(arr)\n",
        "print(arr[:, 1])"
      ],
      "metadata": {
        "colab": {
          "base_uri": "https://localhost:8080/",
          "height": 176
        },
        "id": "puGt2m4wr1Eh",
        "outputId": "4ed0d817-74c2-4818-dfbb-4e4a7989779d"
      },
      "execution_count": null,
      "outputs": [
        {
          "output_type": "error",
          "ename": "TypeError",
          "evalue": "list indices must be integers or slices, not tuple",
          "traceback": [
            "\u001b[0;31m---------------------------------------------------------------------------\u001b[0m",
            "\u001b[0;31mTypeError\u001b[0m                                 Traceback (most recent call last)",
            "\u001b[0;32m<ipython-input-2-e6a522d36e28>\u001b[0m in \u001b[0;36m<cell line: 4>\u001b[0;34m()\u001b[0m\n\u001b[1;32m      2\u001b[0m \u001b[0marr2d\u001b[0m \u001b[0;34m=\u001b[0m \u001b[0;34m[\u001b[0m\u001b[0marr\u001b[0m\u001b[0;34m]\u001b[0m\u001b[0;34m\u001b[0m\u001b[0;34m\u001b[0m\u001b[0m\n\u001b[1;32m      3\u001b[0m \u001b[0marr2d\u001b[0m\u001b[0;34m.\u001b[0m\u001b[0mappend\u001b[0m\u001b[0;34m(\u001b[0m\u001b[0marr\u001b[0m\u001b[0;34m)\u001b[0m\u001b[0;34m\u001b[0m\u001b[0;34m\u001b[0m\u001b[0m\n\u001b[0;32m----> 4\u001b[0;31m \u001b[0mprint\u001b[0m\u001b[0;34m(\u001b[0m\u001b[0marr\u001b[0m\u001b[0;34m[\u001b[0m\u001b[0;34m:\u001b[0m\u001b[0;34m,\u001b[0m \u001b[0;36m1\u001b[0m\u001b[0;34m]\u001b[0m\u001b[0;34m)\u001b[0m\u001b[0;34m\u001b[0m\u001b[0;34m\u001b[0m\u001b[0m\n\u001b[0m",
            "\u001b[0;31mTypeError\u001b[0m: list indices must be integers or slices, not tuple"
          ]
        }
      ]
    },
    {
      "cell_type": "code",
      "source": [],
      "metadata": {
        "id": "o1Ka19O90tLh"
      },
      "execution_count": null,
      "outputs": []
    },
    {
      "cell_type": "code",
      "source": [
        "from sklearn.model_selection import StratifiedKFold\n",
        "l = []\n",
        "dummy_labels = []\n",
        "for i in range(10):\n",
        "  l.append(i)\n",
        "  dummy_labels.append(1)\n",
        "skf = StratifiedKFold(n_splits=5, shuffle=True)\n",
        "skf.get_n_splits(l)\n",
        "print(skf)"
      ],
      "metadata": {
        "id": "doeo4GE7Nt0V",
        "colab": {
          "base_uri": "https://localhost:8080/"
        },
        "outputId": "095ddce4-f171-4dcd-ab8b-2610f66db797"
      },
      "execution_count": null,
      "outputs": [
        {
          "output_type": "stream",
          "name": "stdout",
          "text": [
            "StratifiedKFold(n_splits=5, random_state=None, shuffle=True)\n"
          ]
        }
      ]
    },
    {
      "cell_type": "code",
      "source": [
        "for i, (train_index, test_index) in enumerate(skf.split(l, dummy_labels)):\n",
        "  print(f\"Fold {i}:\")\n",
        "  print(f\"  Train: index={train_index}\")\n",
        "  print(f\"  Test:  index={test_index}\")\n",
        "  if i==0:\n",
        "    print(type(train_index))"
      ],
      "metadata": {
        "colab": {
          "base_uri": "https://localhost:8080/"
        },
        "id": "tRq8z09lGLcW",
        "outputId": "5f2e4058-45a8-409d-a8b4-54ef6a766d02"
      },
      "execution_count": null,
      "outputs": [
        {
          "output_type": "stream",
          "name": "stdout",
          "text": [
            "Fold 0:\n",
            "  Train: index=[0 1 2 3 4 5 6 8]\n",
            "  Test:  index=[7 9]\n",
            "<class 'numpy.ndarray'>\n",
            "Fold 1:\n",
            "  Train: index=[0 1 2 3 4 6 7 9]\n",
            "  Test:  index=[5 8]\n",
            "Fold 2:\n",
            "  Train: index=[0 1 3 4 5 7 8 9]\n",
            "  Test:  index=[2 6]\n",
            "Fold 3:\n",
            "  Train: index=[2 3 4 5 6 7 8 9]\n",
            "  Test:  index=[0 1]\n",
            "Fold 4:\n",
            "  Train: index=[0 1 2 5 6 7 8 9]\n",
            "  Test:  index=[3 4]\n"
          ]
        }
      ]
    },
    {
      "cell_type": "code",
      "source": [],
      "metadata": {
        "id": "C8q3i2zvG-4W"
      },
      "execution_count": null,
      "outputs": []
    }
  ]
}